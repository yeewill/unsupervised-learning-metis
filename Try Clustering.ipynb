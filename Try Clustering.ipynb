{
 "cells": [
  {
   "cell_type": "code",
   "execution_count": 1,
   "metadata": {},
   "outputs": [],
   "source": [
    "from sklearn.cluster import DBSCAN, SpectralClustering, MeanShift,KMeans\n",
    "from sklearn.preprocessing import StandardScaler, Normalizer\n",
    "from sklearn.decomposition import PCA\n",
    "from sklearn.metrics import silhouette_score\n",
    "\n",
    "\n",
    "\n",
    "import matplotlib.pyplot as plt\n",
    "import pandas as pd\n",
    "import seaborn as sns\n",
    "import numpy as np\n",
    "import pickle\n",
    "\n",
    "from collections import Counter\n",
    "\n",
    "plt.style.use(\"seaborn\")\n",
    "%matplotlib inline\n",
    "pd.set_option(\"display.max_columns\", 101)"
   ]
  },
  {
   "cell_type": "code",
   "execution_count": 2,
   "metadata": {},
   "outputs": [],
   "source": [
    "df = pickle.load(open('model_df.p','rb'))"
   ]
  },
  {
   "cell_type": "code",
   "execution_count": 3,
   "metadata": {},
   "outputs": [],
   "source": [
    "df.dropna(inplace=True)"
   ]
  },
  {
   "cell_type": "code",
   "execution_count": 4,
   "metadata": {},
   "outputs": [
    {
     "data": {
      "text/plain": [
       "(18537, 24)"
      ]
     },
     "execution_count": 4,
     "metadata": {},
     "output_type": "execute_result"
    }
   ],
   "source": [
    "df.shape"
   ]
  },
  {
   "cell_type": "code",
   "execution_count": 5,
   "metadata": {},
   "outputs": [],
   "source": [
    "X = Normalizer()\n",
    "X = X.fit_transform(df)"
   ]
  },
  {
   "cell_type": "code",
   "execution_count": 20,
   "metadata": {},
   "outputs": [
    {
     "data": {
      "text/plain": [
       "Counter({0: 18496, 1: 7, -1: 29, 2: 5})"
      ]
     },
     "execution_count": 20,
     "metadata": {},
     "output_type": "execute_result"
    }
   ],
   "source": [
    "db = DBSCAN(eps=.30, min_samples=5).fit(X)\n",
    "\n",
    "Counter(db.fit_predict(X))"
   ]
  },
  {
   "cell_type": "code",
   "execution_count": null,
   "metadata": {},
   "outputs": [],
   "source": []
  },
  {
   "cell_type": "code",
   "execution_count": 18,
   "metadata": {},
   "outputs": [
    {
     "data": {
      "text/plain": [
       "Counter({0: 18537})"
      ]
     },
     "execution_count": 18,
     "metadata": {},
     "output_type": "execute_result"
    }
   ],
   "source": [
    "db = DBSCAN(eps=5, min_samples=5).fit(X)\n",
    "\n",
    "Counter(db.fit_predict(X))\n"
   ]
  },
  {
   "cell_type": "code",
   "execution_count": 8,
   "metadata": {},
   "outputs": [
    {
     "name": "stdout",
     "output_type": "stream",
     "text": [
      "Counter({2: 4958, 0: 4625, 1: 3768, 5: 2465, 3: 2355, 4: 366})\n"
     ]
    }
   ],
   "source": [
    "\n",
    "km = KMeans(n_clusters=6)\n",
    "km.fit(X)\n",
    "pred =km.predict(X)\n",
    "print(Counter(pred))\n"
   ]
  },
  {
   "cell_type": "code",
   "execution_count": 25,
   "metadata": {},
   "outputs": [
    {
     "name": "stdout",
     "output_type": "stream",
     "text": [
      "Counter({0: 9941, 1: 8596})\n",
      "0.371993871202\n",
      "------\n",
      "Counter({2: 7637, 0: 7446, 1: 3454})\n",
      "0.310384471388\n",
      "------\n",
      "Counter({2: 7056, 1: 6061, 0: 3339, 3: 2081})\n",
      "0.325062795068\n",
      "------\n",
      "Counter({0: 5060, 2: 5042, 1: 4080, 4: 2343, 3: 2012})\n",
      "0.288621692642\n",
      "------\n",
      "Counter({3: 4967, 0: 4632, 2: 3755, 1: 2462, 5: 2355, 4: 366})\n",
      "0.301907526664\n",
      "------\n",
      "Counter({2: 4248, 3: 3889, 6: 3437, 0: 2380, 5: 2226, 1: 2005, 4: 352})\n",
      "0.263307330647\n",
      "------\n",
      "Counter({7: 3817, 2: 3404, 0: 2972, 6: 2284, 1: 2126, 5: 2028, 3: 1582, 4: 324})\n",
      "0.268940251216\n",
      "------\n",
      "Counter({2: 3807, 1: 3277, 0: 2840, 4: 2471, 8: 2182, 6: 2138, 5: 1359, 3: 318, 7: 145})\n",
      "0.267703223277\n",
      "------\n",
      "Counter({7: 3442, 1: 3225, 0: 2858, 6: 2009, 2: 1962, 3: 1859, 5: 1754, 9: 974, 8: 309, 4: 145})\n",
      "0.26788872001\n",
      "------\n",
      "Counter({7: 3419, 3: 3227, 9: 2851, 2: 2002, 5: 1953, 8: 1860, 1: 1763, 4: 961, 6: 309, 0: 142, 10: 50})\n",
      "0.271274022418\n",
      "------\n",
      "Counter({6: 2730, 8: 2639, 0: 2555, 7: 2455, 3: 1861, 2: 1840, 1: 1671, 4: 1340, 5: 945, 9: 309, 11: 142, 10: 50})\n",
      "0.24676053676\n",
      "------\n",
      "Counter({1: 2741, 12: 2621, 5: 2527, 6: 2455, 3: 1875, 2: 1842, 9: 1663, 8: 1330, 0: 935, 11: 307, 7: 141, 4: 86, 10: 14})\n",
      "0.248686756599\n",
      "------\n",
      "Counter({5: 2615, 2: 2606, 6: 2550, 9: 2280, 11: 1853, 7: 1696, 0: 1447, 1: 1251, 4: 951, 8: 824, 12: 256, 3: 133, 10: 61, 13: 14})\n",
      "0.250004444201\n",
      "------\n",
      "Counter({2: 2570, 3: 2471, 14: 2390, 6: 2183, 4: 1519, 0: 1479, 1: 1432, 7: 1275, 12: 1003, 10: 888, 5: 866, 13: 258, 9: 132, 8: 57, 11: 14})\n",
      "0.249120444982\n",
      "------\n",
      "Counter({6: 2311, 4: 2112, 5: 1998, 7: 1956, 0: 1942, 1: 1506, 3: 1435, 15: 1277, 14: 993, 11: 865, 8: 858, 2: 826, 10: 256, 9: 131, 13: 57, 12: 14})\n",
      "0.230055137617\n",
      "------\n",
      "Counter({15: 2193, 3: 2015, 12: 1969, 16: 1967, 14: 1870, 1: 1428, 4: 1252, 7: 1100, 0: 1015, 10: 961, 5: 946, 2: 856, 9: 509, 8: 250, 6: 135, 13: 57, 11: 14})\n",
      "0.22736248663\n",
      "------\n",
      "Counter({9: 2201, 3: 2027, 0: 2003, 12: 1942, 5: 1879, 10: 1416, 1: 1243, 2: 1091, 16: 1007, 17: 949, 4: 935, 7: 852, 8: 529, 11: 246, 15: 111, 13: 57, 6: 36, 14: 13})\n",
      "0.227582384713\n",
      "------\n",
      "Counter({2: 2193, 9: 1982, 1: 1928, 3: 1897, 17: 1455, 11: 1279, 6: 1145, 8: 1094, 0: 1048, 7: 1018, 15: 998, 5: 932, 13: 626, 4: 487, 14: 245, 10: 110, 18: 52, 16: 35, 12: 13})\n",
      "0.219736192062\n",
      "------\n",
      "Counter({11: 2085, 2: 1888, 1: 1776, 12: 1694, 3: 1440, 5: 1272, 4: 1258, 9: 1150, 17: 1120, 13: 1053, 14: 962, 7: 865, 0: 628, 18: 583, 15: 295, 8: 232, 6: 108, 19: 87, 10: 27, 16: 14})\n",
      "0.222301442592\n",
      "------\n",
      "Counter({0: 1872, 19: 1811, 9: 1562, 6: 1535, 18: 1425, 7: 1383, 17: 1241, 3: 1162, 15: 1132, 1: 996, 14: 860, 4: 838, 2: 817, 20: 568, 11: 481, 10: 421, 5: 245, 12: 109, 8: 38, 16: 28, 13: 13})\n",
      "0.218801718107\n",
      "------\n",
      "Counter({10: 1784, 11: 1568, 1: 1520, 8: 1296, 2: 1264, 0: 1255, 17: 1195, 14: 1128, 4: 1105, 9: 1062, 3: 1038, 20: 985, 15: 951, 12: 622, 19: 551, 7: 489, 21: 293, 5: 243, 16: 110, 6: 37, 18: 27, 13: 14})\n",
      "0.212120894236\n",
      "------\n",
      "Counter({10: 1777, 12: 1538, 15: 1505, 3: 1313, 11: 1302, 0: 1239, 20: 1216, 21: 1185, 9: 1170, 7: 1135, 1: 944, 19: 894, 4: 798, 2: 584, 6: 558, 22: 503, 13: 417, 16: 227, 8: 78, 18: 75, 5: 38, 14: 28, 17: 13})\n",
      "0.212827143742\n",
      "------\n",
      "Counter({3: 1656, 22: 1542, 0: 1532, 2: 1375, 23: 1285, 8: 1182, 16: 1138, 13: 1119, 7: 1098, 17: 1062, 14: 1026, 18: 1017, 21: 943, 4: 620, 20: 582, 1: 500, 10: 319, 6: 166, 12: 150, 11: 79, 5: 67, 19: 38, 9: 28, 15: 13})\n",
      "0.213543250767\n",
      "------\n",
      "Counter({3: 1497, 0: 1382, 18: 1261, 23: 1254, 7: 1248, 15: 1229, 13: 1151, 21: 1063, 1: 1053, 17: 1025, 9: 894, 2: 879, 11: 836, 24: 833, 22: 619, 5: 563, 6: 548, 4: 539, 12: 231, 14: 196, 19: 84, 8: 78, 10: 37, 20: 24, 16: 13})\n",
      "0.210837798828\n",
      "------\n",
      "Counter({12: 1501, 4: 1413, 19: 1287, 7: 1239, 1: 1229, 0: 1228, 23: 1159, 20: 1120, 10: 1090, 2: 1038, 24: 891, 3: 839, 8: 774, 15: 765, 6: 666, 11: 558, 16: 547, 9: 386, 21: 266, 25: 163, 13: 151, 18: 81, 22: 67, 5: 37, 14: 28, 17: 14})\n",
      "0.211476631112\n",
      "------\n",
      "Counter({7: 1539, 16: 1508, 17: 1328, 0: 1290, 6: 1253, 24: 1208, 3: 1201, 10: 1084, 18: 1042, 1: 882, 15: 859, 20: 850, 2: 827, 11: 667, 4: 644, 8: 569, 19: 551, 25: 495, 21: 190, 23: 162, 5: 153, 26: 79, 14: 76, 22: 30, 12: 26, 13: 13, 9: 11})\n",
      "0.215773242972\n",
      "------\n",
      "Counter({2: 1463, 8: 1333, 21: 1247, 9: 1246, 1: 1209, 25: 1170, 22: 1169, 10: 1038, 12: 972, 14: 883, 3: 862, 6: 843, 0: 839, 5: 837, 24: 645, 20: 561, 17: 549, 23: 531, 7: 465, 4: 163, 18: 149, 27: 143, 13: 73, 15: 73, 26: 28, 16: 18, 11: 15, 19: 13})\n",
      "0.213102925503\n",
      "------\n"
     ]
    }
   ],
   "source": [
    "scores = []\n",
    "cluster_count = []\n",
    "for i in range(2,29,1):\n",
    "    km = KMeans(n_clusters=i)\n",
    "    km.fit(X)\n",
    "    pred =km.predict(X)\n",
    "    scores.append(silhouette_score(X, pred))\n",
    "    cluster_count.append(i)\n",
    "    print(Counter(pred))\n",
    "    print(silhouette_score(X, pred))\n",
    "    print('------')\n",
    "\n",
    "\n",
    "\n"
   ]
  },
  {
   "cell_type": "code",
   "execution_count": null,
   "metadata": {},
   "outputs": [],
   "source": [
    "sns.lineplot(cluster_count,scores)"
   ]
  },
  {
   "cell_type": "code",
   "execution_count": null,
   "metadata": {},
   "outputs": [],
   "source": [
    "Sum_of_squared_distances = []\n",
    "K = range(1,15)\n",
    "for k in K:\n",
    "    km = KMeans(n_clusters=k)\n",
    "    km = km.fit(X)\n",
    "    Sum_of_squared_distances.append(km.inertia_)\n",
    "\n",
    "\n",
    "plt.plot(K, Sum_of_squared_distances, 'bx-')\n",
    "plt.xlabel('k')\n",
    "plt.ylabel('Sum_of_squared_distances')\n",
    "plt.title('Elbow Method For Optimal k')\n",
    "plt.show()"
   ]
  },
  {
   "cell_type": "code",
   "execution_count": 23,
   "metadata": {},
   "outputs": [
    {
     "name": "stdout",
     "output_type": "stream",
     "text": [
      "ep:0.001 size:5\n",
      "Counter({-1: 18537})\n",
      "ep:0.001 size:10\n",
      "Counter({-1: 18537})\n",
      "ep:0.001 size:15\n",
      "Counter({-1: 18537})\n",
      "ep:0.001 size:20\n",
      "Counter({-1: 18537})\n",
      "ep:0.001 size:25\n",
      "Counter({-1: 18537})\n",
      "ep:0.001 size:30\n",
      "Counter({-1: 18537})\n",
      "ep:0.001 size:35\n",
      "Counter({-1: 18537})\n",
      "ep:0.005 size:5\n",
      "Counter({-1: 18537})\n",
      "ep:0.005 size:10\n",
      "Counter({-1: 18537})\n",
      "ep:0.005 size:15\n",
      "Counter({-1: 18537})\n",
      "ep:0.005 size:20\n",
      "Counter({-1: 18537})\n",
      "ep:0.005 size:25\n",
      "Counter({-1: 18537})\n",
      "ep:0.005 size:30\n",
      "Counter({-1: 18537})\n",
      "ep:0.005 size:35\n",
      "Counter({-1: 18537})\n",
      "ep:0.01 size:5\n",
      "Counter({-1: 18454, 7: 17, 3: 13, 8: 11, 1: 9, 2: 7, 9: 6, 6: 5, 5: 5, 0: 5, 4: 5})\n",
      "ep:0.01 size:10\n",
      "Counter({-1: 18537})\n",
      "ep:0.01 size:15\n",
      "Counter({-1: 18537})\n",
      "ep:0.01 size:20\n",
      "Counter({-1: 18537})\n",
      "ep:0.01 size:25\n",
      "Counter({-1: 18537})\n",
      "ep:0.01 size:30\n",
      "Counter({-1: 18537})\n",
      "ep:0.01 size:35\n",
      "Counter({-1: 18537})\n",
      "ep:0.05 size:5\n",
      "Counter({0: 16057, -1: 2325, 2: 78, 7: 17, 10: 17, 4: 11, 5: 6, 1: 5, 3: 5, 11: 5, 6: 4, 9: 4, 8: 3})\n",
      "ep:0.05 size:10\n",
      "Counter({0: 15637, -1: 2831, 3: 26, 1: 17, 2: 13, 5: 7, 4: 6})\n",
      "ep:0.05 size:15\n",
      "Counter({0: 15280, -1: 3163, 1: 65, 2: 20, 3: 9})\n",
      "ep:0.05 size:20\n",
      "Counter({0: 15073, -1: 3436, 1: 28})\n",
      "ep:0.05 size:25\n",
      "Counter({0: 14801, -1: 3686, 1: 50})\n",
      "ep:0.05 size:30\n",
      "Counter({0: 14495, -1: 3942, 1: 57, 2: 43})\n",
      "ep:0.05 size:35\n",
      "Counter({0: 14253, -1: 4240, 1: 44})\n"
     ]
    }
   ],
   "source": [
    "scores = []\n",
    "EP =[]\n",
    "number =[]\n",
    "eps= [.001,.005,.01,.05]\n",
    "size= [5,10,15,20,25,30,35]\n",
    "for ep in eps:\n",
    "    for siz in size:\n",
    "        db = DBSCAN(eps=ep, min_samples=siz)   \n",
    "        pred = db.fit_predict(X)\n",
    "        \n",
    "        print('ep:'+ str(ep) + ' size:'+ str(siz))\n",
    "        print(Counter(pred))\n",
    "        try:\n",
    "            scores.append(silhouette_score(X, pred))\n",
    "        except:\n",
    "            scores.append(np.nan)\n",
    "        EP.append(ep)\n",
    "        number.append(siz)\n",
    "\n"
   ]
  },
  {
   "cell_type": "code",
   "execution_count": null,
   "metadata": {},
   "outputs": [],
   "source": [
    "sns.lineplot(EP,scores)"
   ]
  },
  {
   "cell_type": "code",
   "execution_count": null,
   "metadata": {},
   "outputs": [],
   "source": [
    "sns.lineplot(number,scores)"
   ]
  },
  {
   "cell_type": "code",
   "execution_count": null,
   "metadata": {},
   "outputs": [],
   "source": [
    "df['preds'] = pred"
   ]
  },
  {
   "cell_type": "code",
   "execution_count": null,
   "metadata": {},
   "outputs": [],
   "source": [
    "scores[2]"
   ]
  },
  {
   "cell_type": "code",
   "execution_count": null,
   "metadata": {},
   "outputs": [],
   "source": [
    "sns.pairplot(df)"
   ]
  },
  {
   "cell_type": "code",
   "execution_count": null,
   "metadata": {},
   "outputs": [],
   "source": []
  },
  {
   "cell_type": "code",
   "execution_count": 32,
   "metadata": {},
   "outputs": [
    {
     "name": "stdout",
     "output_type": "stream",
     "text": [
      "linkage:ward clusters:3\n",
      "0.271786906222\n",
      "Counter({0: 9285, 1: 6702, 2: 2550})\n",
      "linkage:ward clusters:4\n",
      "0.284560913325\n",
      "Counter({0: 7569, 3: 6702, 2: 2550, 1: 1716})\n",
      "linkage:ward clusters:5\n",
      "0.23098170093\n",
      "Counter({1: 6702, 4: 4014, 3: 3555, 2: 2550, 0: 1716})\n",
      "linkage:ward clusters:6\n",
      "0.239494143021\n",
      "Counter({0: 6702, 4: 4014, 3: 3555, 2: 2550, 5: 1388, 1: 328})\n",
      "linkage:ward clusters:7\n",
      "0.240853832294\n",
      "Counter({4: 4014, 2: 3644, 3: 3555, 6: 3058, 0: 2550, 5: 1388, 1: 328})\n",
      "linkage:ward clusters:8\n",
      "0.225024708219\n",
      "Counter({4: 4014, 2: 3644, 1: 3555, 6: 3058, 3: 1625, 5: 1388, 7: 925, 0: 328})\n",
      "linkage:ward clusters:9\n",
      "0.227460737986\n",
      "Counter({1: 4014, 2: 3644, 0: 3555, 6: 3058, 3: 1625, 5: 1388, 7: 925, 4: 185, 8: 143})\n",
      "linkage:ward clusters:10\n",
      "0.206878087902\n",
      "Counter({1: 4014, 0: 3644, 2: 3058, 4: 2772, 3: 1625, 5: 1388, 7: 925, 6: 783, 9: 185, 8: 143})\n",
      "linkage:ward clusters:11\n",
      "0.175626604562\n",
      "Counter({1: 4014, 0: 3058, 4: 2772, 6: 2128, 3: 1625, 10: 1516, 5: 1388, 7: 925, 2: 783, 9: 185, 8: 143})\n",
      "linkage:average clusters:3\n",
      "0.725417260282\n",
      "Counter({1: 18517, 2: 11, 0: 9})\n",
      "linkage:average clusters:4\n",
      "0.724582041153\n",
      "Counter({0: 18517, 2: 11, 1: 7, 3: 2})\n",
      "linkage:average clusters:5\n",
      "0.666131304706\n",
      "Counter({0: 18510, 2: 11, 4: 7, 1: 7, 3: 2})\n",
      "linkage:average clusters:6\n",
      "0.638507617504\n",
      "Counter({2: 18487, 0: 23, 5: 11, 4: 7, 1: 7, 3: 2})\n",
      "linkage:average clusters:7\n",
      "0.632111142714\n",
      "Counter({0: 18487, 5: 22, 2: 11, 4: 7, 1: 7, 3: 2, 6: 1})\n",
      "linkage:average clusters:8\n",
      "0.588972286475\n",
      "Counter({2: 18476, 5: 22, 0: 11, 3: 11, 4: 7, 1: 7, 7: 2, 6: 1})\n",
      "linkage:average clusters:9\n",
      "0.588823823938\n",
      "Counter({0: 18476, 2: 22, 3: 11, 8: 9, 4: 7, 1: 7, 7: 2, 5: 2, 6: 1})\n",
      "linkage:average clusters:10\n",
      "0.570647594351\n",
      "Counter({4: 18354, 2: 122, 0: 22, 3: 11, 8: 9, 9: 7, 1: 7, 7: 2, 5: 2, 6: 1})\n",
      "linkage:average clusters:11\n",
      "0.548048451106\n",
      "Counter({4: 18354, 0: 122, 2: 19, 3: 11, 8: 9, 9: 7, 1: 7, 10: 3, 7: 2, 5: 2, 6: 1})\n",
      "linkage:complete clusters:3\n",
      "0.674680615203\n",
      "Counter({2: 18472, 0: 48, 1: 17})\n",
      "linkage:complete clusters:4\n",
      "0.671787993536\n",
      "Counter({0: 18472, 2: 46, 1: 17, 3: 2})\n",
      "linkage:complete clusters:5\n",
      "0.620232390279\n",
      "Counter({4: 18431, 2: 46, 1: 41, 0: 17, 3: 2})\n",
      "linkage:complete clusters:6\n",
      "0.527800658986\n",
      "Counter({1: 18431, 2: 46, 0: 41, 4: 11, 5: 6, 3: 2})\n",
      "linkage:complete clusters:7\n",
      "0.525192407929\n",
      "Counter({0: 18431, 2: 46, 1: 32, 4: 11, 6: 9, 5: 6, 3: 2})\n",
      "linkage:complete clusters:8\n",
      "0.43924793878\n",
      "Counter({3: 18045, 1: 386, 2: 46, 0: 32, 4: 11, 6: 9, 5: 6, 7: 2})\n",
      "linkage:complete clusters:9\n",
      "0.439073900889\n",
      "Counter({3: 18045, 1: 386, 0: 46, 2: 31, 4: 11, 6: 9, 5: 6, 7: 2, 8: 1})\n",
      "linkage:complete clusters:10\n",
      "0.438996018991\n",
      "Counter({1: 18045, 0: 386, 3: 39, 2: 31, 4: 11, 6: 9, 9: 7, 5: 6, 7: 2, 8: 1})\n",
      "linkage:complete clusters:11\n",
      "0.412481194695\n",
      "Counter({0: 18045, 3: 272, 10: 114, 1: 39, 2: 31, 4: 11, 6: 9, 9: 7, 5: 6, 7: 2, 8: 1})\n"
     ]
    }
   ],
   "source": [
    "from sklearn.cluster import AgglomerativeClustering\n",
    "\n",
    "\n",
    "links=[]\n",
    "score=[]\n",
    "clusters=[]\n",
    "for linkage in ('ward', 'average', 'complete'):\n",
    "    for number in range(3,12,1):\n",
    "        clustering = AgglomerativeClustering(linkage=linkage, n_clusters=number)\n",
    "        pred = clustering.fit_predict(X)\n",
    "        try:\n",
    "            print('linkage:' + str(linkage) +' clusters:' +str(number))\n",
    "            print(silhouette_score(X,pred))\n",
    "            print(Counter(pred))\n",
    "            \n",
    "        except:\n",
    "            pass\n",
    "        links.append(linkage)\n",
    "        score.append(silhouette_score(X,pred))\n",
    "        clusters.append(number)\n",
    "\n"
   ]
  },
  {
   "cell_type": "code",
   "execution_count": null,
   "metadata": {},
   "outputs": [],
   "source": []
  }
 ],
 "metadata": {
  "kernelspec": {
   "display_name": "Python 3",
   "language": "python",
   "name": "python3"
  },
  "language_info": {
   "codemirror_mode": {
    "name": "ipython",
    "version": 3
   },
   "file_extension": ".py",
   "mimetype": "text/x-python",
   "name": "python",
   "nbconvert_exporter": "python",
   "pygments_lexer": "ipython3",
   "version": "3.6.8"
  },
  "varInspector": {
   "cols": {
    "lenName": 16,
    "lenType": 16,
    "lenVar": 40
   },
   "kernels_config": {
    "python": {
     "delete_cmd_postfix": "",
     "delete_cmd_prefix": "del ",
     "library": "var_list.py",
     "varRefreshCmd": "print(var_dic_list())"
    },
    "r": {
     "delete_cmd_postfix": ") ",
     "delete_cmd_prefix": "rm(",
     "library": "var_list.r",
     "varRefreshCmd": "cat(var_dic_list()) "
    }
   },
   "types_to_exclude": [
    "module",
    "function",
    "builtin_function_or_method",
    "instance",
    "_Feature"
   ],
   "window_display": false
  }
 },
 "nbformat": 4,
 "nbformat_minor": 2
}
