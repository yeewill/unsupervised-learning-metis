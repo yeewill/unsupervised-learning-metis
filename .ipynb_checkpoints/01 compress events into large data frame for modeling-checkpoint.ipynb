{
 "cells": [
  {
   "cell_type": "code",
   "execution_count": null,
   "metadata": {},
   "outputs": [],
   "source": [
    "import pandas as pd\n",
    "import numpy as np\n",
    "from collections import Counter\n",
    "from vincenty import vincenty\n",
    "from copy import deepcopy\n",
    "from glob import glob\n",
    "from pprint import pprint"
   ]
  },
  {
   "cell_type": "code",
   "execution_count": null,
   "metadata": {},
   "outputs": [],
   "source": [
    "colnames = ['lat','long', 'null', 'alt' ,'DateTime','Date','Time']\n",
    "df = pd.read_csv('/Users/williamyee/Documents/Data Bootcamp/unsupervised-learning-metis/Geolife Trajectories 1.3/Data/013/Trajectory/20080929001436.plt', skiprows=6, names = colnames)"
   ]
  },
  {
   "cell_type": "code",
   "execution_count": null,
   "metadata": {},
   "outputs": [],
   "source": [
    "def add_feat(df_input):\n",
    "    df = df_input\n",
    "    # add some initial shifts\n",
    "    df['lat_shift'] = df.lat.shift(-1)\n",
    "    df['long_shift'] = df.long.shift(-1)\n",
    "    df['time_shift'] = df.DateTime.shift(-1)\n",
    "    # add speed\n",
    "    def speed(x):\n",
    "        try:\n",
    "            s = vincenty((x[-3],x[-2]),(x[0],x[1]), miles = True) / ((x[-1]-x[4]) * 24)\n",
    "        except:\n",
    "            s= np.nan\n",
    "        return s\n",
    "    df['speed_mph'] = df.apply(speed,axis =1)\n",
    "    df['speed_shift'] = df.speed_mph.shift(-1)\n",
    "    # add acceleration\n",
    "    def accel(x):\n",
    "        try:\n",
    "            a = (x[-1] - x[-2]) / ((x[9] - x[4]) *24*60*60)\n",
    "        except:\n",
    "            a = np.nan\n",
    "        return a\n",
    "    df['acceleration'] = df.apply(accel, axis =1)\n",
    "    df['acceleration_shift'] = df.acceleration.shift(-1)\n",
    "    # add jerk\n",
    "    def jerk(x):\n",
    "        try:\n",
    "            j = (x[-1] - x[-2]) / ((x[9] - x[4]) *24*60*60)\n",
    "        except:\n",
    "            j = np.nan\n",
    "        return a\n",
    "    df['jerk'] = df.apply(accel, axis =1)\n",
    "    df['jerk_shift'] = df.jerk.shift(-1)\n",
    "\n",
    "    def y(x):\n",
    "        try:\n",
    "            yy = np.sin((x[8] - x[0]) * np.pi/180) *np.cos( x[7]* np.pi/180)\n",
    "        except:\n",
    "            yy= np.nan\n",
    "        return yy\n",
    "    df['y'] = df.apply(y, axis =1)\n",
    "\n",
    "    def x(x):\n",
    "        try:\n",
    "            xx = np.cos(x[0] * np.pi/180) *np.sin(x[7]* np.pi/180) - np.sin(x[0]* np.pi/180) * np.cos(x[7]* np.pi/180)*np.cos((x[8]-x[1])* np.pi/180)\n",
    "        except:\n",
    "            xx = np.nan\n",
    "        return xx\n",
    "    df['x'] = df.apply(x,axis =1)\n",
    "\n",
    "    def bearing(x):\n",
    "        try:\n",
    "            b = np.arctan2(x[-2],x[-1])*180/np.pi\n",
    "        except:\n",
    "            b = np.nan\n",
    "        return b\n",
    "    df['bearing'] = df.apply(bearing,axis=1)\n",
    "\n",
    "    df['brearing_shift'] = df.bearing.shift(-1)\n",
    "\n",
    "    def bearing_rate(x):\n",
    "        try:\n",
    "            br = abs(x[-1]-x[-2])\n",
    "        except:\n",
    "            br = np.nan\n",
    "        return br\n",
    "    df['bearing_rate'] = df.apply(bearing_rate,axis=1)\n",
    "    \n",
    "    \n",
    "    def distance(x):\n",
    "        try:\n",
    "            dist = vincenty((x[7],x[8]),(x[0],x[1]), miles = True)\n",
    "        except:\n",
    "            dist= np.nan\n",
    "        return dist\n",
    "    df['distance'] = df.apply(distance,axis = 1)\n",
    "    \n",
    "    \n",
    "    df.drop(df.tail(4).index,inplace=True)\n",
    "    return df"
   ]
  },
  {
   "cell_type": "code",
   "execution_count": null,
   "metadata": {},
   "outputs": [],
   "source": [
    "df = add_feat(df)\n",
    "\n",
    "df.head()\n",
    "\n",
    "for i,name in enumerate(add_feat(df).columns):\n",
    "    print(i , name)"
   ]
  },
  {
   "cell_type": "code",
   "execution_count": null,
   "metadata": {},
   "outputs": [],
   "source": [
    "(add_feat(df).iloc[-1,4] - add_feat(df).iloc[0,4])*24*60"
   ]
  },
  {
   "cell_type": "code",
   "execution_count": null,
   "metadata": {},
   "outputs": [],
   "source": []
  },
  {
   "cell_type": "code",
   "execution_count": null,
   "metadata": {},
   "outputs": [],
   "source": [
    "def list_df_summary(input_df):\n",
    "    names = ['speed_10','speed_25','speed_50','speed_75','speed_90','speed_ave',\n",
    "            'accel_10','accel_25','accel_50','accel_75','accel_90','accel_ave',\n",
    "            'jerk_10','jerk_25','jerk_50','jerk_75','jerk_90','jerk_ave',\n",
    "            'bearingRate_10','bearingRate_25','bearingRate_50','bearingRate_75','bearingRate_90','bearingRate_ave',\n",
    "            'distance_traveled','time_traveled' ,'last_lat','last_long','start_lat','start_long'\n",
    "            \n",
    "            ]\n",
    "    values = list()\n",
    "    #speed\n",
    "    values.append(input_df.quantile(.10)[8])\n",
    "    values.append(input_df.quantile(.25)[8])\n",
    "    values.append(input_df.quantile(.50)[8])\n",
    "    values.append(input_df.quantile(.75)[8])\n",
    "    values.append(input_df.quantile(.90)[8])\n",
    "    values.append(input_df.mean()[8])\n",
    "    #accel\n",
    "    values.append(input_df.quantile(.10)[10])\n",
    "    values.append(input_df.quantile(.25)[10])\n",
    "    values.append(input_df.quantile(.50)[10])\n",
    "    values.append(input_df.quantile(.75)[10])\n",
    "    values.append(input_df.quantile(.90)[10])\n",
    "    values.append(input_df.mean()[10])\n",
    "    #jerk\n",
    "    values.append(input_df.quantile(.10)[12])\n",
    "    values.append(input_df.quantile(.25)[12])\n",
    "    values.append(input_df.quantile(.50)[12])\n",
    "    values.append(input_df.quantile(.75)[12])\n",
    "    values.append(input_df.quantile(.90)[12])\n",
    "    values.append(input_df.mean()[12])\n",
    "    #bearing\n",
    "    values.append(input_df.quantile(.10)[18])\n",
    "    values.append(input_df.quantile(.25)[18])\n",
    "    values.append(input_df.quantile(.50)[18])\n",
    "    values.append(input_df.quantile(.75)[18])\n",
    "    values.append(input_df.quantile(.90)[18])\n",
    "    values.append(input_df.mean()[18])\n",
    "    #distance travelled\n",
    "    values.append(input_df.distance.sum())\n",
    "    #time travelled\n",
    "    values.append((input_df.iloc[-1,4] - input_df.iloc[0,4])*24*60)\n",
    "    #lat long\n",
    "    values.append(input_df.iloc[-1,0])\n",
    "    values.append(input_df.iloc[-1,1])\n",
    "    values.append(input_df.iloc[0,0])\n",
    "    values.append(input_df.iloc[0,1])\n",
    "    \n",
    "    \n",
    "    return pd.DataFrame([values],columns=names)"
   ]
  },
  {
   "cell_type": "code",
   "execution_count": null,
   "metadata": {},
   "outputs": [],
   "source": [
    "list_df_summary(add_feat(df))"
   ]
  },
  {
   "cell_type": "code",
   "execution_count": null,
   "metadata": {},
   "outputs": [],
   "source": []
  },
  {
   "cell_type": "code",
   "execution_count": null,
   "metadata": {},
   "outputs": [],
   "source": [
    "plts = []\n",
    "for folder in glob('/Users/williamyee/Documents/Data Bootcamp/unsupervised-learning-metis/Geolife Trajectories 1.3/Data/*/Trajectory'):\n",
    "    for file in glob(folder +'/*.plt'):\n",
    "        plts.append(file)"
   ]
  },
  {
   "cell_type": "code",
   "execution_count": null,
   "metadata": {},
   "outputs": [],
   "source": [
    "large_df = []\n",
    "for i, file in enumerate(plts):\n",
    "    print( int(i*100 / len(plts)))\n",
    "    try:\n",
    "        large_df.append(list_df_summary(add_feat(pd.read_csv(file, skiprows=6,names=colnames))))\n",
    "    except:\n",
    "        pass\n",
    "modeling_df = pd.concat(large_df)"
   ]
  },
  {
   "cell_type": "code",
   "execution_count": null,
   "metadata": {},
   "outputs": [],
   "source": [
    "import pickle\n",
    "pickle.dump(modeling_df, open('model_df5212019.p','wb'))"
   ]
  },
  {
   "cell_type": "code",
   "execution_count": null,
   "metadata": {},
   "outputs": [],
   "source": []
  },
  {
   "cell_type": "code",
   "execution_count": null,
   "metadata": {},
   "outputs": [],
   "source": [
    "modeling_df.shape"
   ]
  },
  {
   "cell_type": "code",
   "execution_count": null,
   "metadata": {},
   "outputs": [],
   "source": [
    "modeling_df.head()"
   ]
  },
  {
   "cell_type": "code",
   "execution_count": null,
   "metadata": {},
   "outputs": [],
   "source": []
  }
 ],
 "metadata": {
  "kernelspec": {
   "display_name": "Python 3",
   "language": "python",
   "name": "python3"
  },
  "language_info": {
   "codemirror_mode": {
    "name": "ipython",
    "version": 3
   },
   "file_extension": ".py",
   "mimetype": "text/x-python",
   "name": "python",
   "nbconvert_exporter": "python",
   "pygments_lexer": "ipython3",
   "version": "3.6.8"
  },
  "varInspector": {
   "cols": {
    "lenName": 16,
    "lenType": 16,
    "lenVar": 40
   },
   "kernels_config": {
    "python": {
     "delete_cmd_postfix": "",
     "delete_cmd_prefix": "del ",
     "library": "var_list.py",
     "varRefreshCmd": "print(var_dic_list())"
    },
    "r": {
     "delete_cmd_postfix": ") ",
     "delete_cmd_prefix": "rm(",
     "library": "var_list.r",
     "varRefreshCmd": "cat(var_dic_list()) "
    }
   },
   "types_to_exclude": [
    "module",
    "function",
    "builtin_function_or_method",
    "instance",
    "_Feature"
   ],
   "window_display": false
  }
 },
 "nbformat": 4,
 "nbformat_minor": 2
}
